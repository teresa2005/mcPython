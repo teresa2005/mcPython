{
  "nbformat": 4,
  "nbformat_minor": 0,
  "metadata": {
    "colab": {
      "name": "10.4 . cnn 이미지분류(주피터로는 잘 안돌아감)ipynb",
      "provenance": [],
      "include_colab_link": true
    },
    "kernelspec": {
      "name": "python3",
      "display_name": "Python 3"
    }
  },
  "cells": [
    {
      "cell_type": "markdown",
      "metadata": {
        "id": "view-in-github",
        "colab_type": "text"
      },
      "source": [
        "<a href=\"https://colab.research.google.com/github/teresa2005/mcPython/blob/master/10_4_cnn_%EC%9D%B4%EB%AF%B8%EC%A7%80%EB%B6%84%EB%A5%98(%EC%A3%BC%ED%94%BC%ED%84%B0%EB%A1%9C%EB%8A%94_%EC%9E%98_%EC%95%88%EB%8F%8C%EC%95%84%EA%B0%90)ipynb.ipynb\" target=\"_parent\"><img src=\"https://colab.research.google.com/assets/colab-badge.svg\" alt=\"Open In Colab\"/></a>"
      ]
    },
    {
      "cell_type": "code",
      "metadata": {
        "id": "Igj0FSsx3Fdg",
        "colab_type": "code",
        "colab": {}
      },
      "source": [
        "import numpy as np \n",
        "import tensorflow as tf \n",
        "from tensorflow import keras \n",
        "from tensorflow.keras.utils import to_categorical\n",
        "import matplotlib.pyplot as plt "
      ],
      "execution_count": 0,
      "outputs": []
    },
    {
      "cell_type": "code",
      "metadata": {
        "id": "Y_yQZcsL3Hqs",
        "colab_type": "code",
        "colab": {
          "base_uri": "https://localhost:8080/",
          "height": 52
        },
        "outputId": "1bceb1cf-ef69-485e-dd11-425ba9e76d54"
      },
      "source": [
        "# 테세플로우와 케라스 버젼 확인 \n",
        "tf.enable_eager_execution()\n",
        "print(tf.__version__)\n",
        "print(keras.__version__)\n"
      ],
      "execution_count": 7,
      "outputs": [
        {
          "output_type": "stream",
          "text": [
            "1.14.0\n",
            "2.2.4-tf\n"
          ],
          "name": "stdout"
        }
      ]
    },
    {
      "cell_type": "code",
      "metadata": {
        "id": "euv_iloE58GJ",
        "colab_type": "code",
        "colab": {
          "base_uri": "https://localhost:8080/",
          "height": 125
        },
        "outputId": "45a7851a-1163-42d9-e901-61ffca47daab"
      },
      "source": [
        "# 구글 드라이버의 데이터를 가져오기 위해서 실행  # 링크 타고 들어가 key 복사 복붙 \n",
        "from google.colab import drive \n",
        "drive.mount('/gdrive',force_remount=True)\n"
      ],
      "execution_count": 8,
      "outputs": [
        {
          "output_type": "stream",
          "text": [
            "Go to this URL in a browser: https://accounts.google.com/o/oauth2/auth?client_id=947318989803-6bn6qk8qdgf4n4g3pfee6491hc0brc4i.apps.googleusercontent.com&redirect_uri=urn%3Aietf%3Awg%3Aoauth%3A2.0%3Aoob&scope=email%20https%3A%2F%2Fwww.googleapis.com%2Fauth%2Fdocs.test%20https%3A%2F%2Fwww.googleapis.com%2Fauth%2Fdrive%20https%3A%2F%2Fwww.googleapis.com%2Fauth%2Fdrive.photos.readonly%20https%3A%2F%2Fwww.googleapis.com%2Fauth%2Fpeopleapi.readonly&response_type=code\n",
            "\n",
            "Enter your authorization code:\n",
            "··········\n",
            "Mounted at /gdrive\n"
          ],
          "name": "stdout"
        }
      ]
    },
    {
      "cell_type": "code",
      "metadata": {
        "id": "qAz1eS5c6lq5",
        "colab_type": "code",
        "colab": {
          "base_uri": "https://localhost:8080/",
          "height": 34
        },
        "outputId": "fcddd75c-63e6-42dd-f401-8e8232aa67a0"
      },
      "source": [
        "# 나의 구글드라이버 (/gdrive/My Drive/)/data/dental_image/train/ 폴더이 서브폴더 확인 \n",
        "!ls \"/gdrive/My Drive/data/dental_image/train/\""
      ],
      "execution_count": 17,
      "outputs": [
        {
          "output_type": "stream",
          "text": [
            "cured  decayed\thealthy\n"
          ],
          "name": "stdout"
        }
      ]
    },
    {
      "cell_type": "code",
      "metadata": {
        "id": "R_9Uwmcm6lyO",
        "colab_type": "code",
        "colab": {
          "base_uri": "https://localhost:8080/",
          "height": 34
        },
        "outputId": "126dc046-c5ac-4f0e-c464-477923b715ae"
      },
      "source": [
        "# 나의 구글드라이버 (/gdrive/My Drive/)/data/dental_image/test/ 폴더이 서브폴더 확인 \n",
        "!ls \"/gdrive/My Drive/data/dental_image/test/\""
      ],
      "execution_count": 18,
      "outputs": [
        {
          "output_type": "stream",
          "text": [
            "cured  decayed\thealthy\n"
          ],
          "name": "stdout"
        }
      ]
    },
    {
      "cell_type": "code",
      "metadata": {
        "id": "gwuQD2Ju6l0_",
        "colab_type": "code",
        "colab": {}
      },
      "source": [
        "# 학습 데이터 경로 \n",
        "TRAIN_DIR=\"/gdrive/My Drive/data/dental_image/train/\"\n",
        "#테스트 데이터의 경로 \n",
        "TEST_DIR=\"/gdrive/My Drive/data/dental_image/test/\"\n",
        "LR=0.001 \n",
        "batch_size=32\n"
      ],
      "execution_count": 0,
      "outputs": []
    },
    {
      "cell_type": "code",
      "metadata": {
        "id": "xtI5yjyZ6l3l",
        "colab_type": "code",
        "colab": {}
      },
      "source": [
        "# 이미지의 가로 세로\n",
        "IM_WIDTH=224\n",
        "IM_HEIGHT=224"
      ],
      "execution_count": 0,
      "outputs": []
    },
    {
      "cell_type": "code",
      "metadata": {
        "id": "zdNVYO9p6l56",
        "colab_type": "code",
        "colab": {}
      },
      "source": [
        "from keras.preprocessing.image import ImageDataGenerator\n",
        "\n",
        "# 학습에 사용될 이미지 데이터 생성기 \n",
        "# epoch를 실행할때마다 변형된 이미지를 리턴해서 이미지가 많은 것 같은 효과를 줌 \n",
        "\n",
        "train_datagen=ImageDataGenerator(\n",
        "      rotation_range=180, # 회전 - 최대 80도 \n",
        "      width_shift_range=0.2, # 좌우 이동 \n",
        "      height_shift_range=0.2, # 상하 이동 \n",
        "      horizontal_flip=True, # 좌우 반전 \n",
        "      vertical_flip=True, # 상하 반전 \n",
        "      )"
      ],
      "execution_count": 0,
      "outputs": []
    },
    {
      "cell_type": "code",
      "metadata": {
        "id": "0tipLm0w6l8N",
        "colab_type": "code",
        "colab": {}
      },
      "source": [
        "# 검증에 사용될 이미지 데이터 생성기 \n",
        "# 테스트에서는 이미지를 변형 할 필요가 없으므로 \n",
        "# ImageDataGenerator에 값을 주지 않음 \n",
        "# 이미지가 변형되지 않고 같은 이미지 리턴 \n",
        "test_datagen = ImageDataGenerator()"
      ],
      "execution_count": 0,
      "outputs": []
    },
    {
      "cell_type": "code",
      "metadata": {
        "id": "rmEKdJnH6mQI",
        "colab_type": "code",
        "colab": {
          "base_uri": "https://localhost:8080/",
          "height": 34
        },
        "outputId": "34b781b8-896f-4634-b308-cd2fbcc50a44"
      },
      "source": [
        "# 학습에 사용될 데이터 생성기 \n",
        "train_generator = train_datagen.flow_from_directory( \n",
        "                  TRAIN_DIR, # 학습데이터 경로 \n",
        "                  target_size=(IM_WIDTH,IM_HEIGHT), # 위에서 정의한 이미지 사이즈 \n",
        "                  batch_size=batch_size,\n",
        "                  class_mode='categorical',\n",
        "                  shuffle=True)"
      ],
      "execution_count": 31,
      "outputs": [
        {
          "output_type": "stream",
          "text": [
            "Found 150 images belonging to 3 classes.\n"
          ],
          "name": "stdout"
        }
      ]
    },
    {
      "cell_type": "code",
      "metadata": {
        "id": "9OAOkSt46mSj",
        "colab_type": "code",
        "colab": {
          "base_uri": "https://localhost:8080/",
          "height": 34
        },
        "outputId": "35c6ae83-38e4-4971-b0ec-27822f834913"
      },
      "source": [
        "# 검증에 사용될 데이터 생성기 \n",
        "test_generator = test_datagen.flow_from_directory( \n",
        "                  TEST_DIR, # 학습데이터 경로 \n",
        "                  target_size=(IM_WIDTH,IM_HEIGHT), # 위에서 정의한 이미지 사이즈 \n",
        "                  batch_size=batch_size,\n",
        "                  class_mode='categorical',\n",
        "                  shuffle=True)"
      ],
      "execution_count": 32,
      "outputs": [
        {
          "output_type": "stream",
          "text": [
            "Found 60 images belonging to 3 classes.\n"
          ],
          "name": "stdout"
        }
      ]
    },
    {
      "cell_type": "code",
      "metadata": {
        "id": "gYOVLKZg6mU5",
        "colab_type": "code",
        "colab": {
          "base_uri": "https://localhost:8080/",
          "height": 34
        },
        "outputId": "d8b3f737-dfc3-46e8-dee0-e564ea714dad"
      },
      "source": [
        "# ImageDataGenerator 는 Target 를 지정할 필요 없이 train 폴더 안의 서브폴더가 class임 \n",
        "# 클래스의 종류는 3개다. \n",
        "class_num=len(train_generator.class_indices)\n",
        "class_num"
      ],
      "execution_count": 34,
      "outputs": [
        {
          "output_type": "execute_result",
          "data": {
            "text/plain": [
              "3"
            ]
          },
          "metadata": {
            "tags": []
          },
          "execution_count": 34
        }
      ]
    },
    {
      "cell_type": "code",
      "metadata": {
        "id": "9xZEvMeX6mW6",
        "colab_type": "code",
        "colab": {
          "base_uri": "https://localhost:8080/",
          "height": 34
        },
        "outputId": "691564ee-bcb7-4396-9194-14b0c97054ca"
      },
      "source": [
        "# 클래스 폴더의 이름을 리턴 \n",
        "custom_labels=list(train_generator.class_indices.keys())\n",
        "custom_labels"
      ],
      "execution_count": 35,
      "outputs": [
        {
          "output_type": "execute_result",
          "data": {
            "text/plain": [
              "['cured', 'decayed', 'healthy']"
            ]
          },
          "metadata": {
            "tags": []
          },
          "execution_count": 35
        }
      ]
    },
    {
      "cell_type": "code",
      "metadata": {
        "id": "uRlNy6wPNDnK",
        "colab_type": "code",
        "colab": {}
      },
      "source": [
        "from tensorflow import keras\n",
        "\n",
        "#2. 모델 구성하기 \n",
        "# cnn모델 생성 \n",
        "def create_model():\n",
        "  # cnn 각 단계를 순서대로 저장할 객체 생성 \n",
        "  model=keras.Sequential()\n",
        "  model.add(keras.layers.Conv2D(filters=32,kernel_size=5, activation=tf.nn.relu, padding='SAME',input_shape=(IM_WIDTH,IM_HEIGHT,3)))\n",
        "  model.add(keras.layers.MaxPool2D(padding='SAME'))\n",
        "  model.add(keras.layers.Conv2D(filters=64, kernel_size=5, activation=tf.nn.relu, padding='SAME',input_shape=(IM_WIDTH,IM_HEIGHT,3)))\n",
        "  model.add(keras.layers.MaxPool2D(padding='SAME'))\n",
        "  model.add(keras.layers.Conv2D(filters=128, kernel_size=5, activation=tf.nn.relu, padding='SAME',input_shape=(IM_WIDTH,IM_HEIGHT,3)))\n",
        "  model.add(keras.layers.MaxPool2D(padding='SAME'))\n",
        "  model.add(keras.layers.Conv2D(filters=64, kernel_size=5, activation=tf.nn.relu, padding='SAME',input_shape=(IM_WIDTH,IM_HEIGHT,3)))\n",
        "  model.add(keras.layers.MaxPool2D(padding='SAME'))\n",
        "  model.add(keras.layers.Conv2D(filters=32, kernel_size=5, activation=tf.nn.relu, padding='SAME',input_shape=(IM_WIDTH,IM_HEIGHT,3)))\n",
        "  model.add(keras.layers.MaxPool2D(padding='SAME'))\n",
        "  model.add(keras.layers.Flatten())\n",
        "  model.add(keras.layers.Dense(1024,activation=tf.nn.relu))\n",
        "  model.add(keras.layers.Dropout(0.2))\n",
        "  model.add(keras.layers.Dense(class_num,activation='softmax'))\n",
        "  return model \n",
        "\n"
      ],
      "execution_count": 0,
      "outputs": []
    },
    {
      "cell_type": "code",
      "metadata": {
        "id": "AKRU8QgNO4Dn",
        "colab_type": "code",
        "colab": {}
      },
      "source": [
        "model=create_model()"
      ],
      "execution_count": 0,
      "outputs": []
    },
    {
      "cell_type": "code",
      "metadata": {
        "id": "NyaRlskpPAdC",
        "colab_type": "code",
        "colab": {
          "base_uri": "https://localhost:8080/",
          "height": 650
        },
        "outputId": "a09eae45-b173-4c35-eaae-85f9be6b759e"
      },
      "source": [
        "model.summary()"
      ],
      "execution_count": 46,
      "outputs": [
        {
          "output_type": "stream",
          "text": [
            "Model: \"sequential_1\"\n",
            "_________________________________________________________________\n",
            "Layer (type)                 Output Shape              Param #   \n",
            "=================================================================\n",
            "conv2d_5 (Conv2D)            (None, 224, 224, 32)      2432      \n",
            "_________________________________________________________________\n",
            "max_pooling2d_5 (MaxPooling2 (None, 112, 112, 32)      0         \n",
            "_________________________________________________________________\n",
            "conv2d_6 (Conv2D)            (None, 112, 112, 64)      51264     \n",
            "_________________________________________________________________\n",
            "max_pooling2d_6 (MaxPooling2 (None, 56, 56, 64)        0         \n",
            "_________________________________________________________________\n",
            "conv2d_7 (Conv2D)            (None, 56, 56, 128)       204928    \n",
            "_________________________________________________________________\n",
            "max_pooling2d_7 (MaxPooling2 (None, 28, 28, 128)       0         \n",
            "_________________________________________________________________\n",
            "conv2d_8 (Conv2D)            (None, 28, 28, 64)        204864    \n",
            "_________________________________________________________________\n",
            "max_pooling2d_8 (MaxPooling2 (None, 14, 14, 64)        0         \n",
            "_________________________________________________________________\n",
            "conv2d_9 (Conv2D)            (None, 14, 14, 32)        51232     \n",
            "_________________________________________________________________\n",
            "max_pooling2d_9 (MaxPooling2 (None, 7, 7, 32)          0         \n",
            "_________________________________________________________________\n",
            "flatten_1 (Flatten)          (None, 1568)              0         \n",
            "_________________________________________________________________\n",
            "dense_2 (Dense)              (None, 1024)              1606656   \n",
            "_________________________________________________________________\n",
            "dropout_1 (Dropout)          (None, 1024)              0         \n",
            "_________________________________________________________________\n",
            "dense_3 (Dense)              (None, 3)                 3075      \n",
            "=================================================================\n",
            "Total params: 2,124,451\n",
            "Trainable params: 2,124,451\n",
            "Non-trainable params: 0\n",
            "_________________________________________________________________\n"
          ],
          "name": "stdout"
        }
      ]
    },
    {
      "cell_type": "code",
      "metadata": {
        "id": "WlPvyRYxMi-b",
        "colab_type": "code",
        "colab": {}
      },
      "source": [
        "# 3.모델 학습 과정 설정하기 \n",
        "model.compile(loss='categorical_crossentropy',optimizer=keras.optimizers.Adam(lr=1e-5),metrics=['accuracy'])"
      ],
      "execution_count": 0,
      "outputs": []
    },
    {
      "cell_type": "code",
      "metadata": {
        "id": "6baSzxBTMi8v",
        "colab_type": "code",
        "colab": {}
      },
      "source": [
        "# 4. 모델 학습시키기 \n",
        "# 모델 학습시 정확도와 loss를 history 에 추가 "
      ],
      "execution_count": 0,
      "outputs": []
    },
    {
      "cell_type": "code",
      "metadata": {
        "id": "heQXXiDDMi7I",
        "colab_type": "code",
        "colab": {}
      },
      "source": [
        ""
      ],
      "execution_count": 0,
      "outputs": []
    },
    {
      "cell_type": "code",
      "metadata": {
        "id": "6mg6N4RMMi4s",
        "colab_type": "code",
        "colab": {}
      },
      "source": [
        ""
      ],
      "execution_count": 0,
      "outputs": []
    },
    {
      "cell_type": "code",
      "metadata": {
        "id": "QgGe1SbCMi2o",
        "colab_type": "code",
        "colab": {}
      },
      "source": [
        ""
      ],
      "execution_count": 0,
      "outputs": []
    },
    {
      "cell_type": "code",
      "metadata": {
        "id": "w-TsaJhdMi0W",
        "colab_type": "code",
        "colab": {}
      },
      "source": [
        ""
      ],
      "execution_count": 0,
      "outputs": []
    },
    {
      "cell_type": "code",
      "metadata": {
        "id": "K2uPFxuMMimq",
        "colab_type": "code",
        "colab": {}
      },
      "source": [
        ""
      ],
      "execution_count": 0,
      "outputs": []
    },
    {
      "cell_type": "code",
      "metadata": {
        "id": "e1C9WOdYMzjl",
        "colab_type": "code",
        "colab": {}
      },
      "source": [
        ""
      ],
      "execution_count": 0,
      "outputs": []
    }
  ]
}